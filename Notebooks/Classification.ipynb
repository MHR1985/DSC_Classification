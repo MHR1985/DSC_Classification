{
 "cells": [
  {
   "cell_type": "markdown",
   "metadata": {},
   "source": [
    "# 1. Bayes' theorem\n",
    "Bayes' theorem says P(A|B)=P(B|A)\\*P(A)/P(B)\n",
    "\n",
    "a)\n",
    "60% of the kids play football, and 36% of the kids play ice hockey. 40% of the kids who play football\n",
    "also play ice hockey. What percent of those that play ice hockey also play football?\n",
    "\n",
    "a = football\n",
    "b = hockey\n",
    "\n",
    "inserting into the bayes theorem we get:\n"
   ]
  },
  {
   "cell_type": "code",
   "execution_count": 4,
   "metadata": {},
   "outputs": [
    {
     "data": {
      "text/plain": [
       "0.6666666666666666"
      ]
     },
     "execution_count": 4,
     "metadata": {},
     "output_type": "execute_result"
    }
   ],
   "source": [
    "footballHockey = 0.4\n",
    "football = 0.6\n",
    "hockey = 0.36\n",
    "footballHockey*football/hockey"
   ]
  },
  {
   "cell_type": "markdown",
   "metadata": {},
   "source": [
    "so 66.67 % of the children that play hockey, also play football.\n",
    "\n",
    "b)\n",
    "\n",
    "40% of the kids like music, and 24% of the kids like to dance. Given that 30% of those that like\n",
    "music also likes to dance, what percent of those that like to dance also likes music?\n",
    "\n",
    "a = music\n",
    "b = dance\n",
    "\n",
    "inserting into the bayes theorem we get:"
   ]
  },
  {
   "cell_type": "code",
   "execution_count": 3,
   "metadata": {},
   "outputs": [
    {
     "data": {
      "text/plain": [
       "0.5"
      ]
     },
     "execution_count": 3,
     "metadata": {},
     "output_type": "execute_result"
    }
   ],
   "source": [
    "music = 0.4\n",
    "dance = 0.24\n",
    "danceMusic = 0.3\n",
    "\n",
    "danceMusic*music/dance"
   ]
  },
  {
   "cell_type": "markdown",
   "metadata": {},
   "source": [
    "so 50% of the children that likes to dance also likes music.\n",
    "\n",
    "c)\n",
    "\n",
    "In a factory, machine X produces 60% of the daily output and machine Y produces 40% of the daily\n",
    "output.\n",
    "2% of machine X’s output is defective, and 1.5% of machine Y’s output is defective.\n",
    "One day, an item is inspected at random, and found to be defective. What is the probability that it\n",
    "was produced by machine X?\n",
    "\n",
    "Initial probability of product being machine x = 60% = 0.6\n",
    "Initial probability of product being machine y = 40% = 0.4\n",
    "\n",
    "P A = P A|B1   *   P B1    +      P A|B2 * P B2\n",
    "\n",
    "\n",
    "(P A - P A|B2 * P B2)/PB1 = P A|B1\n",
    "\n",
    "\n",
    "\n"
   ]
  },
  {
   "cell_type": "code",
   "execution_count": 13,
   "metadata": {},
   "outputs": [
    {
     "data": {
      "text/plain": [
       "0.012"
      ]
     },
     "execution_count": 13,
     "metadata": {},
     "output_type": "execute_result"
    }
   ],
   "source": [
    "0.6*0.02"
   ]
  },
  {
   "cell_type": "code",
   "execution_count": 14,
   "metadata": {},
   "outputs": [
    {
     "data": {
      "text/plain": [
       "0.006"
      ]
     },
     "execution_count": 14,
     "metadata": {},
     "output_type": "execute_result"
    }
   ],
   "source": [
    " 0.4*0.015"
   ]
  },
  {
   "cell_type": "markdown",
   "metadata": {},
   "source": [
    "We are unsure how to calculate the probability for this one. But our guess is two thirds equal to 66.67% probability. We are guessing by taking the difference between the results above."
   ]
  },
  {
   "cell_type": "markdown",
   "metadata": {},
   "source": [
    "# 2. \n",
    "Make a KNN classifier on the IRIS dataset using Python. Make sure to split the dataset into training and\n",
    "testing sets. "
   ]
  },
  {
   "cell_type": "code",
   "execution_count": 1,
   "metadata": {},
   "outputs": [],
   "source": [
    "from sklearn import datasets\n",
    "from sklearn.neighbors import KNeighborsClassifier\n",
    "from sklearn.model_selection import train_test_split\n",
    "from matplotlib import pyplot as plt\n",
    "from sklearn.metrics import confusion_matrix\n",
    "from sklearn.metrics import accuracy_score\n",
    "from sklearn.metrics import auc"
   ]
  },
  {
   "cell_type": "code",
   "execution_count": 2,
   "metadata": {},
   "outputs": [
    {
     "name": "stdout",
     "output_type": "stream",
     "text": [
      "1.0\n",
      "[[ 8  0  0]\n",
      " [ 0  9  2]\n",
      " [ 0  0 11]]\n",
      "              precision    recall  f1-score   support\n",
      "\n",
      "           0       1.00      1.00      1.00         8\n",
      "           1       1.00      0.82      0.90        11\n",
      "           2       0.85      1.00      0.92        11\n",
      "\n",
      "    accuracy                           0.93        30\n",
      "   macro avg       0.95      0.94      0.94        30\n",
      "weighted avg       0.94      0.93      0.93        30\n",
      "\n",
      "0.9333333333333333\n"
     ]
    }
   ],
   "source": [
    "iris = datasets.load_iris()\n",
    "X = iris.data\n",
    "y= iris.target\n",
    "knn = KNeighborsClassifier(n_neighbors=3)\n",
    "\n",
    "\n",
    "X_train, X_test, y_train, y_test = train_test_split(iris.data, iris.target, train_size = 0.8, random_state = 5)\n",
    "\n",
    "knn.fit(X_train,y_train)\n",
    "y_predicted = knn.predict(X_test)\n",
    "\n",
    "print(knn.score(X_test,y_predicted))\n",
    "\n",
    "from sklearn.metrics import classification_report, confusion_matrix\n",
    "print(confusion_matrix(y_test, y_predicted))\n",
    "print(classification_report(y_test, y_predicted))\n",
    "\n",
    "print(accuracy_score(y_test, y_predicted))"
   ]
  },
  {
   "cell_type": "markdown",
   "metadata": {},
   "source": [
    "As we can see from the code above, we get a 0.93 accuracy score with a training size of 0.8 and 3 neighbors."
   ]
  },
  {
   "cell_type": "markdown",
   "metadata": {},
   "source": [
    "# 3 - 5\n",
    "See KNIME workflow."
   ]
  },
  {
   "cell_type": "markdown",
   "metadata": {},
   "source": [
    "# 6.\n"
   ]
  }
 ],
 "metadata": {
  "kernelspec": {
   "display_name": "Python 3",
   "language": "python",
   "name": "python3"
  },
  "language_info": {
   "codemirror_mode": {
    "name": "ipython",
    "version": 3
   },
   "file_extension": ".py",
   "mimetype": "text/x-python",
   "name": "python",
   "nbconvert_exporter": "python",
   "pygments_lexer": "ipython3",
   "version": "3.8.5"
  }
 },
 "nbformat": 4,
 "nbformat_minor": 4
}
